{
 "cells": [
  {
   "cell_type": "markdown",
   "metadata": {},
   "source": [
    "# Beautiful Soup - Breve Introdução\n",
    "\n",
    "Esse material se baseia [documentação](https://readthedocs.org/projects/beautiful-soup-4/downloads/pdf/latest/) da versão 4.4 do Beatiful Soup.\n",
    "\n",
    "Eu adoro ir direto pra documentação.\n",
    "\n",
    "Nesse exemplo eu fiz o html do zero e associei a uma variável do tipo string.\n",
    "No mundo real o ideal é fazer requisições em algum site, pegar a resposta da\n",
    "requisição e trabalhar com dado a partir disso."
   ]
  },
  {
   "cell_type": "code",
   "execution_count": 3,
   "metadata": {},
   "outputs": [
    {
     "name": "stdout",
     "output_type": "stream",
     "text": [
      "\n",
      "Nome da Tag Título: title\n",
      "O texto que está contido na tag title: \n",
      "Título da Página Web\n",
      "\n",
      "\n",
      "Isto é um parágrafo colorido com a cor verde\n",
      "Classes do parágrafo: ['verde']\n",
      "\n",
      "Isto é um parágrafo colorido com a cor vermelho\n",
      "Classes do parágrafo: ['vermelho']\n",
      "\n"
     ]
    }
   ],
   "source": [
    "from bs4 import BeautifulSoup\n",
    "import requests\n",
    "\n",
    "html = '''\n",
    "    <html>\n",
    "        <head>\n",
    "            <title>\n",
    "                Título da Página Web\n",
    "            </title>\n",
    "        </head>\n",
    "    <body>\n",
    "        <h1 class='azul'>Olá Mundo</h1>\n",
    "        <p class='verde'>Isto é um parágrafo colorido com a cor verde</p>\n",
    "        <p class='vermelho'>Isto é um parágrafo colorido com a cor vermelho</p>\n",
    "    </body>\n",
    "    </html>\n",
    "'''\n",
    "\n",
    "soup = BeautifulSoup(html, 'html.parser')\n",
    "\n",
    "print(f'''\n",
    "    Nome da Tag Título: {soup.title.name}\n",
    "    O texto que está contido na tag title: {soup.title.string}\n",
    "'''.replace('    ', ''))\n",
    "\n",
    "for p in soup.find_all('p'):\n",
    "    print(p.text)\n",
    "    print('Classes do parágrafo:',p.get('class'))\n",
    "    print()\n"
   ]
  },
  {
   "cell_type": "markdown",
   "metadata": {},
   "source": [
    "# Entendendo um pouco mais sobre o Beautiful Soup\n",
    "\n",
    "\n",
    "O Beautiful Soup converte um arquivo HTML em uma Árvore de Objetos.\n",
    "\n",
    "Esses objetos se resumem à 4 tipos:\n",
    "\n",
    "1. Tag\n",
    "2. NavigableString\n",
    "3. BeautifulSoup\n",
    "4. Comment"
   ]
  },
  {
   "cell_type": "markdown",
   "metadata": {},
   "source": [
    "## Tag"
   ]
  },
  {
   "cell_type": "markdown",
   "metadata": {},
   "source": [
    "# Fazendo Requisições com Request e Manipulando com Beautiful Soup.\n",
    "\n",
    "Em aplicações no mundo real, não copiamos o html e colamos em um arquivo, txt.\n",
    "Geralmente fazermos requisições, recebemos o conteúdo do site, direto na script\n",
    "executado e fazemos o tratamento em tempo real.\n",
    "\n",
    "Nesse exemplo, iremos utilizar as bibliotecas requests e Beautiful Soup.\n"
   ]
  },
  {
   "cell_type": "code",
   "execution_count": 4,
   "metadata": {},
   "outputs": [],
   "source": [
    "html_text = requests.get('https://wikipedia.com').text\n",
    "html = BeautifulSoup(html_text)\n",
    "\n",
    "found_tags = [tag for tag in html.find_all()]"
   ]
  },
  {
   "cell_type": "markdown",
   "metadata": {},
   "source": [
    "# Exercício Proposto - Calcular tempo de uma Playlist.\n",
    "\n",
    "Eu particularmente assisto muitos vídeos do YouTube, principalmente aulas. Antigamente perdia muito tempo pegando tempo por tempo e somando. Depois eu fazia as consultas direto no Console fazia o cálculo pelo próprio console.\n",
    "\n",
    "Agora o objetivo é fazer isso, utilizando as bibliotecas Request e Beautiful Soup."
   ]
  }
 ],
 "metadata": {
  "interpreter": {
   "hash": "b3ba2566441a7c06988d0923437866b63cedc61552a5af99d1f4fb67d367b25f"
  },
  "kernelspec": {
   "display_name": "Python 3.8.8 64-bit ('base': conda)",
   "language": "python",
   "name": "python3"
  },
  "language_info": {
   "codemirror_mode": {
    "name": "ipython",
    "version": 3
   },
   "file_extension": ".py",
   "mimetype": "text/x-python",
   "name": "python",
   "nbconvert_exporter": "python",
   "pygments_lexer": "ipython3",
   "version": "3.8.8"
  },
  "orig_nbformat": 4
 },
 "nbformat": 4,
 "nbformat_minor": 2
}
